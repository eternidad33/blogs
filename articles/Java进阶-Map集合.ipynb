{
 "cells": [
  {
   "cell_type": "markdown",
   "metadata": {},
   "source": [
    "### Map集合\n",
    "\n",
    "参考书籍[《疯狂Java讲义精粹》](https://weread.qq.com/web/reader/b9f325405a64efb9fa69ebfkc81322c012c81e728d9d180)\n",
    "\n",
    "Map的继承关系，如图：\n",
    "\n",
    "![Map](https://upload-images.jianshu.io/upload_images/18780226-74bdb7ec1e6365fd.png?imageMogr2/auto-orient/strip%7CimageView2/2/w/1240)\n",
    "\n",
    "Map用于保存具有映射关系的数据，因此Map集合里保存着两组值，一组值用于保存Map里的key，另外一组值用于保存Map里的value，key和value都可以是任何引用类型的数据。\n",
    "\n",
    "`HashMap`和`Hashtable`都是Map接口的典型实现类，它们之间的关系完全类似于`ArrayList`和`Vector`的关系\n",
    "\n",
    "> Hashtable是一个线程安全的Map实现，但HashMap是线程不安全的实现\n",
    "> \n",
    "> Hashtable不允许使用null作为key和value\n",
    "\n",
    "`HashMap`、`Hashtable`也不能保证其中key-value对的顺序。\n",
    "\n",
    "`Properties`类是`Hashtable`类的子类，正如它的名字所暗示的，该对象在处理属性文件时特别方便（Windows操作平台上的ini文件就是一种属性文件）。\n",
    "\n",
    "`TreeMap`就是一个红黑树数据结构，每个key-value对即作为红黑树的一个节点。`TreeMap`存储key-value对（节点）时，需要根据key对节点进行排序。\n"
   ]
  }
 ],
 "metadata": {
  "kernelspec": {
   "display_name": "Python 3",
   "language": "python",
   "name": "python3"
  },
  "language_info": {
   "codemirror_mode": {
    "name": "ipython",
    "version": 3
   },
   "file_extension": ".py",
   "mimetype": "text/x-python",
   "name": "python",
   "nbconvert_exporter": "python",
   "pygments_lexer": "ipython3",
   "version": "3.7.4"
  }
 },
 "nbformat": 4,
 "nbformat_minor": 2
}
