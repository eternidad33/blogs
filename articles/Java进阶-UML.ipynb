{
 "cells": [
  {
   "cell_type": "markdown",
   "metadata": {},
   "source": [
    "### UML\n",
    "UML是统一的建模语言，本质是利用图形化的形式来实现程序类关系的描述\n",
    "\n",
    "#### 类图\n",
    "类一般用三层结构来显示\n",
    "\n",
    "|**类名称**|\n",
    "|:---:|\n",
    "|属性|\n",
    "|方法|\n",
    "\n",
    "抽象类一般用斜体表示，也可以加上`abstract`  \n",
    "属性的格式为`访问权限 属性名称：属性类型`  \n",
    "访问权限的表示符为public(`+`),private(`-`),protected(`#`)  \n",
    "方法的格式为`访问权限 方法名称():返回值\"结构\n",
    "\n",
    "\n",
    "子类实现接口用\"三角和虚线\",类的继承用\"三角和实线\",由子类指向父类\n",
    "\n",
    "#### 时序图\n",
    "时序图用于描述代码的执行流程\n",
    "\n",
    "#### 用例图\n",
    "用例图用于描述程序的执行分配"
   ]
  }
 ],
 "metadata": {
  "kernelspec": {
   "display_name": "Python 3",
   "language": "python",
   "name": "python3"
  },
  "language_info": {
   "codemirror_mode": {
    "name": "ipython",
    "version": 3
   },
   "file_extension": ".py",
   "mimetype": "text/x-python",
   "name": "python",
   "nbconvert_exporter": "python",
   "pygments_lexer": "ipython3",
   "version": "3.7.4"
  }
 },
 "nbformat": 4,
 "nbformat_minor": 2
}
