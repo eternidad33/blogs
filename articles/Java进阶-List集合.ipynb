{
 "cells": [
  {
   "cell_type": "markdown",
   "metadata": {},
   "source": [
    "### List集合\n",
    "\n",
    "集合操作最常用的两种方法：`add()`，`iterator()`\n",
    "\n",
    "`public interface List<E> extends Collection<E>`\n",
    "\n",
    "Collection的继承关系，如图：\n",
    "\n",
    "![Collection继承关系](https://upload-images.jianshu.io/upload_images/18780226-d0de9dfd66825a67.png?imageMogr2/auto-orient/strip%7CimageView2/2/w/1240)\n",
    "\n",
    "List的三个常用子类：\n",
    "\n",
    "1. `ArrayList`\n",
    "2. `LinkedList `\n",
    "3.  `Vector`\n",
    "\n",
    "**ArrayList**\n",
    "\n",
    "继承关系\n",
    "\n",
    "```java\n",
    "public class ArrayList<E>\n",
    "extends AbstractList<E>\n",
    "implements List<E>, RandomAccess, Cloneable, Serializable\n",
    "```\n",
    "\n",
    "**LinkedList**\n",
    "\n",
    "继承关系\n",
    "\n",
    "```java\n",
    "public class LinkedList<E>\n",
    "extends AbstractSequentialList<E>\n",
    "implements List<E>, Deque<E>, Cloneable, Serializable\n",
    "```\n",
    "\n",
    "\n",
    "\n",
    "**Vector**\n",
    "\n",
    "Vector是一个古老的集合（从JDK 1.0就有了）\n",
    "\n",
    "继承关系\n",
    "\n",
    "```java\n",
    "public class Vector<E>\n",
    "extends AbstractList<E>\n",
    "implements List<E>, RandomAccess, Cloneable, Serializable\n",
    "```\n",
    "\n",
    "\n",
    "\n",
    "> **ArrayList和Vector的显著区别**：ArrayList是线程不安全的，当多个线程访问同一个ArrayList集合时，如果有超过一个线程修改了ArrayList集合，则程序必须手动保证该集合的同步性；但Vector集合则是线程安全的，无须程序保证该集合的同步性。\n",
    "\n",
    "\n"
   ]
  }
 ],
 "metadata": {
  "kernelspec": {
   "display_name": "Python 3",
   "language": "python",
   "name": "python3"
  },
  "language_info": {
   "codemirror_mode": {
    "name": "ipython",
    "version": 3
   },
   "file_extension": ".py",
   "mimetype": "text/x-python",
   "name": "python",
   "nbconvert_exporter": "python",
   "pygments_lexer": "ipython3",
   "version": "3.7.4"
  }
 },
 "nbformat": 4,
 "nbformat_minor": 2
}
