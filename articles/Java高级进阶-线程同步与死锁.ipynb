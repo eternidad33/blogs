{
 "cells": [
  {
   "cell_type": "markdown",
   "metadata": {},
   "source": [
    "### 线程的同步与死锁\n",
    "\n",
    "**同步问题的引出**\n",
    "\n",
    "系统休眠或网络延迟会产生数据不同步问题\n",
    "\n",
    "**线程同步**\n",
    "\n",
    "解决同步问题的关键是锁\n",
    "\n",
    "关键字`synchronized`\n",
    "\n",
    "```java\n",
    "while (true) {\n",
    "    synchronized (this) {\n",
    "        if (ticket > 0) {\n",
    "            try {\n",
    "                Thread.sleep(100);\n",
    "            } catch (InterruptedException e) {\n",
    "                e.printStackTrace();\n",
    "            }\n",
    "            System.out.println(Thread.currentThread().getName() + \"当前票数为：\" + ticket--);\n",
    "        } else {\n",
    "            System.out.println(\"票卖光了\");\n",
    "            break;\n",
    "        }\n",
    "    }\n",
    "}\n",
    "```\n",
    "\n",
    "同步实际上会使系统的性能降低\n",
    "\n",
    "解决同步问题的两种方法：同步代码块和同步方法\n",
    "\n",
    "**线程死锁**\n",
    "\n",
    "线程死锁就是若干个线程互相等待的状态\n",
    "\n",
    "死锁是开发中不确定的状态\n",
    "\n",
    "若干个线程访问同一资源时一定要进行同步处理，而过多的同步则会造成死锁\n"
   ]
  }
 ],
 "metadata": {
  "kernelspec": {
   "display_name": "Python 3",
   "language": "python",
   "name": "python3"
  },
  "language_info": {
   "codemirror_mode": {
    "name": "ipython",
    "version": 3
   },
   "file_extension": ".py",
   "mimetype": "text/x-python",
   "name": "python",
   "nbconvert_exporter": "python",
   "pygments_lexer": "ipython3",
   "version": "3.7.4"
  }
 },
 "nbformat": 4,
 "nbformat_minor": 2
}
