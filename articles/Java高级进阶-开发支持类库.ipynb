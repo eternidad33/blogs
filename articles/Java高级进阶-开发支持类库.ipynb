{
 "cells": [
  {
   "cell_type": "markdown",
   "metadata": {},
   "source": [
    "### 开发支持类\n",
    "\n",
    "**UUID类**\n",
    "\n",
    "UUID是一种生成无重复字符串的一种程序类，这种程序类的主要功能是根据时间戳实现一个自动的无重复字符串定义。\n",
    "\n",
    "随机获取UUID:`public static UUID randomUUID()`\n",
    "\n",
    "根据字符串获取UUID内容:`public static UUID fromString(String name)`\n",
    "\n",
    "**Option类**\n",
    "\n",
    "Option类的主要功能是进行null的相关处理\n",
    "\n",
    "返回空数据：`public static<T> Optional<T> empty()`\n",
    "\n",
    "获取数据：`public T get()`\n",
    "\n",
    "保存数据，但是不许出现null：`public static <T> Optional<T> of(T value)`\n",
    "\n",
    "保存数据，允许出现null：`public static <T> Optional<T> ofNullable(T value)`\n",
    "\n",
    "空的时候返回其他数据:`public T orElse(T other)`\n",
    "\n",
    "![Optional](https://upload-images.jianshu.io/upload_images/18780226-b593cefc405a5d45.png?imageMogr2/auto-orient/strip%7CimageView2/2/w/1240)\n",
    "\n",
    "**ThreadLocal类**\n",
    "\n",
    "构造方法：`public ThreadLocal()`\n",
    "\n",
    "设置数据：`public void set(T value)`\n",
    "\n",
    "取出数据：`public T get()`\n",
    "\n",
    "删除数据：`public void remove()`\n",
    "\n",
    "**Base64类**\n",
    "\n",
    "Base64可以实现加密与解密的处理，包含的内部类和方法如下图：\n",
    "\n",
    "![Base64](https://upload-images.jianshu.io/upload_images/18780226-3d6422b6a39413ba.png?imageMogr2/auto-orient/strip%7CimageView2/2/w/1240)\n",
    "\n",
    "```java\n",
    "public static void main(String[] args) {\n",
    "    String msg=\"Hello Java\";\n",
    "    String encMsg=new String(Base64.getEncoder().encode(msg.getBytes()));\n",
    "    System.out.println(encMsg);\n",
    "    String oldMsg=new String(Base64.getDecoder().decode(encMsg));\n",
    "    System.out.println(oldMsg);\n",
    "}\n",
    "```\n",
    "\n",
    "运行结果：\n",
    "\n",
    "```\n",
    "SGVsbG8gSmF2YQ==\n",
    "Hello Java\n",
    "```\n"
   ]
  }
 ],
 "metadata": {
  "kernelspec": {
   "display_name": "Python 3",
   "language": "python",
   "name": "python3"
  },
  "language_info": {
   "codemirror_mode": {
    "name": "ipython",
    "version": 3
   },
   "file_extension": ".py",
   "mimetype": "text/x-python",
   "name": "python",
   "nbconvert_exporter": "python",
   "pygments_lexer": "ipython3",
   "version": "3.7.4"
  }
 },
 "nbformat": 4,
 "nbformat_minor": 2
}
