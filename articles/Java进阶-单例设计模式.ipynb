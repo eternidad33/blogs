{
 "cells": [
  {
   "cell_type": "markdown",
   "metadata": {},
   "source": [
    "#### 单例设计\n",
    "\n",
    "懒汉式\n",
    "\n",
    "​\t在第一次使用时进行实例化处理\n",
    "\n",
    "饿汉式\n",
    "\n",
    "​\t在系统加载类时，实例化对象\n",
    "\n",
    "#### 多例设计\n",
    "\n",
    "单例设计是指只保留一个实例化对象，多例设计是指保留多个实例化对象\n",
    "\n",
    "```java\n",
    "class Color{\n",
    "    public static final Color RED=new Color(\"红色\");\n",
    "    public static final Color GREEN=new Color(\"绿色\");\n",
    "    public static final Color BLUE=new Color(\"蓝色\");\n",
    "    private String title;\n",
    "    private Color(String titile) {\n",
    "        this.title=titile;\n",
    "    }\n",
    "    public static Color getInstance(String color){\n",
    "        switch (color){\n",
    "            case \"red\":return RED;\n",
    "            case \"green\":return GREEN;\n",
    "            case \"blue\":return BLUE;\n",
    "            default:return null;\n",
    "        }\n",
    "    }\n",
    "    @Override\n",
    "    public String toString(){\n",
    "        return this.title;\n",
    "    }\n",
    "}\n",
    "public class JavaDemo {\n",
    "    public static void main(String[] args) {\n",
    "        Color c=Color.getInstance(\"green\");\n",
    "        System.out.println(c);\n",
    "    }\n",
    "}\n",
    "```\n",
    "\n",
    "单例设计和多例设计的本质是相同的，一定都会在内部提供有`static`方法以返回实例化对象。都要进行构造方法私有化\n"
   ]
  }
 ],
 "metadata": {
  "kernelspec": {
   "display_name": "Python 3",
   "language": "python",
   "name": "python3"
  },
  "language_info": {
   "codemirror_mode": {
    "name": "ipython",
    "version": 3
   },
   "file_extension": ".py",
   "mimetype": "text/x-python",
   "name": "python",
   "nbconvert_exporter": "python",
   "pygments_lexer": "ipython3",
   "version": "3.7.4"
  }
 },
 "nbformat": 4,
 "nbformat_minor": 2
}
