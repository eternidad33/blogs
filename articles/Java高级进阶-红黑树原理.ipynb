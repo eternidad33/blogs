{
 "cells": [
  {
   "cell_type": "markdown",
   "metadata": {},
   "source": [
    "### 红黑树原理\n",
    "\n",
    "> 红黑树（Red Black Tree） 是一种自平衡二叉查找树，是在计算机科学中用到的一种数据结构，典型的用途是实现关联数组。\n",
    ">\n",
    "> 红黑树是在1972年由Rudolf Bayer发明的，当时被称为平衡二叉B树（symmetric binary B-trees）。后来，在1978年被 Leo J. Guibas 和 Robert Sedgewick 修改为如今的“红黑树”。\n",
    ">\n",
    "> 红黑树是一种特化的AVL树（平衡二叉树），都是在进行插入和删除操作时通过特定操作保持二叉查找树的平衡，从而获得较高的查找性能。\n",
    ">\n",
    "> 它虽然是复杂的，但它的最坏情况运行时间也是非常良好的，并且在实践中是高效的： 它可以在O(log n)时间内做查找，插入和删除，这里的n 是树中元素的数目。\n",
    "\n",
    "红黑树的构造：\n",
    "\n",
    "```java\n",
    "enum Color{\n",
    "    RED,BLACK;\n",
    "}\n",
    "public class RBBinaryTree<T> {\n",
    "    private class Node{\n",
    "        private T data;\n",
    "        private Node parent;\n",
    "        private Node left;\n",
    "        private Node right;\n",
    "        private Color color;\n",
    "    }\n",
    "}\n",
    "```\n",
    "\n",
    "红黑树的特点：\n",
    "\n",
    "1. 每个节点不是黑色就是红色\n",
    "2. 根节点必须是黑色\n",
    "3. 叶子节点是黑色\n",
    "   - Java实现的红黑树使用null代表空节点，因此遍历红黑树时将看不到黑丝的叶子节点，反而看到每个叶子节点都是红色的\n",
    "4. 红色节点的子节点必须是黑色的\n",
    "5. 一个节点到该节点的所有子孙节点的所有路径上包含相同数目的黑色节点\n",
    "\n",
    "利用红色节点与黑色节点实现均衡的控制\n",
    "\n"
   ]
  }
 ],
 "metadata": {
  "kernelspec": {
   "display_name": "Python 3",
   "language": "python",
   "name": "python3"
  },
  "language_info": {
   "codemirror_mode": {
    "name": "ipython",
    "version": 3
   },
   "file_extension": ".py",
   "mimetype": "text/x-python",
   "name": "python",
   "nbconvert_exporter": "python",
   "pygments_lexer": "ipython3",
   "version": "3.7.4"
  }
 },
 "nbformat": 4,
 "nbformat_minor": 2
}
