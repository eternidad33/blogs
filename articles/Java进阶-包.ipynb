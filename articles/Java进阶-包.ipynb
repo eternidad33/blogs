{
 "cells": [
  {
   "cell_type": "markdown",
   "metadata": {},
   "source": [
    "### 包\n",
    "\n",
    "同一个目录下不能有同名的程序文件，要创建不同的目录，不同的的目录就是不同的包\n",
    "\n",
    "`javac -d . hello.java`  \n",
    "`-d`:表示要生成目录，目录为`package`定义的结构  \n",
    "`.`:表示从当前目录开始生成\n",
    "\n",
    "类的名称：包.类名称\n",
    "\n",
    "`import util.Message;`导入其他包的类\n",
    "\n",
    "当导入的几个包中出现重名的类时，定义类要用完整的类名称`Message msg=new util.Message();`。\n",
    "\n",
    "#### 静态导入\n",
    "`import static util.Math.*;`静态导入后可以直接使用`util.Math`中的方法\n",
    "\n",
    "```java\n",
    "import static util.Math.*;\n",
    "public class test {\n",
    "    public static void main(String[] args) {\n",
    "        System.out.println(add(1,2,3,4,5));\n",
    "        System.out.println(sub(5,3));\n",
    "    }\n",
    "}\n",
    "```\n",
    "### Jar\n",
    "想用`javac`编译，然后用`jar`打包\n",
    "\n",
    "`jar -cvf \"名称.jar\" 文件夹`   \n",
    "`-c`创建一个新的`jar`文件  \n",
    "`-v`得到一个详细输出  \n",
    "`-f`设置生成的`Jar`文件名称\n",
    "\n",
    "### 系统常见包\n",
    "`java.lang`包括String，Number，Object等  \n",
    "`java.lang.reflect`反射机制处理包  \n",
    "`java.util`工具类的定义，包括数据结构的定义  \n",
    "`java.io`进行输入与输出流操作的包  \n",
    "`java.net`网络程序开发的程序包  \n",
    "`java.sql`进行数据库编程的开发包  \n",
    "`java.awt`和`java.swing`Java的图形界面开发包，awt是重量级的组件，swing是轻量级的组件\n",
    "\n",
    "### 访问控制权限\n",
    "面向对象的三个主要特点：封装，继承，多态\n",
    "\n",
    "|     访问范围     | private | default | protected | public |\n",
    "| :--------------: | :-----: | :-----: | :-------: | :----: |\n",
    "| 同一包中的同一类 |    √    |    √    |     √     |   √    |\n",
    "| 同一包中的不同类 |         |    √    |     √     |   √    |\n",
    "|   不同包的子类   |         |         |     √     |   √    |\n",
    "|  不同包的所有类  |         |         |           |   √    |\n"
   ]
  }
 ],
 "metadata": {
  "kernelspec": {
   "display_name": "Python 3",
   "language": "python",
   "name": "python3"
  },
  "language_info": {
   "codemirror_mode": {
    "name": "ipython",
    "version": 3
   },
   "file_extension": ".py",
   "mimetype": "text/x-python",
   "name": "python",
   "nbconvert_exporter": "python",
   "pygments_lexer": "ipython3",
   "version": "3.7.4"
  }
 },
 "nbformat": 4,
 "nbformat_minor": 2
}
